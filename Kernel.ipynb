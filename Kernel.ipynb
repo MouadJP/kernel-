{
 "cells": [
  {
   "cell_type": "code",
   "execution_count": 2,
   "id": "b9c5cddf",
   "metadata": {},
   "outputs": [
    {
     "name": "stdout",
     "output_type": "stream",
     "text": [
      "           x1        x2\n",
      "0    0.195862  1.270151\n",
      "1    1.378727  0.131296\n",
      "2    1.252930 -0.321992\n",
      "3    1.331717 -0.080226\n",
      "4    0.408563  1.445537\n",
      "..        ...       ...\n",
      "395  0.703955 -0.905775\n",
      "396  0.334583  1.394056\n",
      "397 -1.701716 -0.569091\n",
      "398  2.642809  1.144779\n",
      "399 -0.254568 -0.141992\n",
      "\n",
      "[400 rows x 2 columns]\n"
     ]
    }
   ],
   "source": [
    "import pandas as pd\n",
    "import numpy as np\n",
    "import matplotlib.pyplot as plt\n",
    "from ipywidgets import interactive,widgets\n",
    "file_path = 'banana.ldt'\n",
    "column_names = ['x1','x2'] \n",
    "# Read into a DataFrame\n",
    "cord = pd.read_csv(file_path, sep='  ', names=column_names, skiprows=1,usecols=[0,1],engine = 'python')\n",
    "x1 = np.array(cord.x1)\n",
    "x2 = np.array(cord.x2)\n",
    "# Data confirmation\n",
    "print(cord)"
   ]
  },
  {
   "cell_type": "code",
   "execution_count": 9,
   "id": "dcc8f392",
   "metadata": {},
   "outputs": [],
   "source": [
    "def linear_kernel(i,j):\n",
    "    return cord.x1[i]*cord.x1[j] + cord.x2[i]*cord.x2[j] \n",
    "def euclidean(i,j):\n",
    "    return np.sqrt((cord.x1[i]-cord.x1[j])**2 + (cord.x2[i]-cord.x2[j])**2) \n",
    "def poly_kernel(i,j,d):\n",
    "    return (linear_kernel(i,j)+1)**d\n",
    "def rbf_kernel(i,j,a):\n",
    "    return np.exp(-a*euclidean(i,j))\n",
    "l_kernel_matrix = np.zeros((400, 400))\n",
    "p_kernel_matrix = np.zeros((400, 400))\n",
    "r_kernel_matrix = np.zeros((400, 400))\n",
    "\n",
    "for i in range(400):\n",
    "    for j in range(400):\n",
    "        l_kernel_matrix[i,j] = linear_kernel(i,j)\n",
    "        p_kernel_matrix[i,j] = poly_kernel(i,j,4)\n",
    "        r_kernel_matrix[i,j] = rbf_kernel(i,j,10)\n"
   ]
  },
  {
   "cell_type": "code",
   "execution_count": 10,
   "id": "2beb9be4",
   "metadata": {},
   "outputs": [
    {
     "name": "stdout",
     "output_type": "stream",
     "text": [
      "1.651645485845\n",
      "49.43810788103031\n",
      "1.0\n"
     ]
    }
   ],
   "source": [
    "print(l_kernel_matrix[0,0])\n",
    "print(p_kernel_matrix[0,0])\n",
    "print(r_kernel_matrix[0,0])"
   ]
  },
  {
   "cell_type": "code",
   "execution_count": 8,
   "id": "7cb6d503",
   "metadata": {},
   "outputs": [],
   "source": [
    "Result = pd.DataFrame(l_kernel_matrix)\n",
    "Result1 = pd.DataFrame(p_kernel_matrix)\n",
    "Result2 = pd.DataFrame(r_kernel_matrix)\n",
    "Result.to_csv('Linear_kernel.csv', index=False,header=False)\n",
    "Result1.to_csv('Polynial_kernel.csv', index=False,header=False)\n",
    "Result2.to_csv('RBF_kernel.csv', index=False,header=False)\n",
    "\n"
   ]
  },
  {
   "cell_type": "code",
   "execution_count": null,
   "id": "cf07cd27",
   "metadata": {},
   "outputs": [],
   "source": []
  },
  {
   "cell_type": "code",
   "execution_count": null,
   "id": "0e3d16db",
   "metadata": {},
   "outputs": [],
   "source": []
  },
  {
   "cell_type": "code",
   "execution_count": null,
   "id": "57c51dbe",
   "metadata": {},
   "outputs": [],
   "source": []
  },
  {
   "cell_type": "code",
   "execution_count": null,
   "id": "5a0d3447",
   "metadata": {},
   "outputs": [],
   "source": []
  },
  {
   "cell_type": "code",
   "execution_count": null,
   "id": "bb2b84ac",
   "metadata": {},
   "outputs": [],
   "source": []
  },
  {
   "cell_type": "code",
   "execution_count": null,
   "id": "95d5fa6b",
   "metadata": {},
   "outputs": [],
   "source": []
  },
  {
   "cell_type": "code",
   "execution_count": null,
   "id": "c46dee62",
   "metadata": {},
   "outputs": [],
   "source": []
  },
  {
   "cell_type": "code",
   "execution_count": null,
   "id": "d56cb9e6",
   "metadata": {},
   "outputs": [],
   "source": []
  }
 ],
 "metadata": {
  "kernelspec": {
   "display_name": "Python 3 (ipykernel)",
   "language": "python",
   "name": "python3"
  },
  "language_info": {
   "codemirror_mode": {
    "name": "ipython",
    "version": 3
   },
   "file_extension": ".py",
   "mimetype": "text/x-python",
   "name": "python",
   "nbconvert_exporter": "python",
   "pygments_lexer": "ipython3",
   "version": "3.9.7"
  }
 },
 "nbformat": 4,
 "nbformat_minor": 5
}
